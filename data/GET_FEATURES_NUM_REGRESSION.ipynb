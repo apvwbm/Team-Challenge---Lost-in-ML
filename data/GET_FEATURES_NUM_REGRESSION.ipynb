{
 "cells": [
  {
   "cell_type": "code",
   "execution_count": 1,
   "metadata": {},
   "outputs": [],
   "source": [
    "import pandas as pd\n",
    "from scipy.stats import pearsonr"
   ]
  },
  {
   "cell_type": "code",
   "execution_count": null,
   "metadata": {},
   "outputs": [
    {
     "data": {
      "text/plain": [
       "['Absences', 'GradeClass']"
      ]
     },
     "execution_count": 2,
     "metadata": {},
     "output_type": "execute_result"
    }
   ],
   "source": [
    "def get_features_num_regression(df, target_col, umbral_corr, pvalue=None):\n",
    "    \n",
    "        # Comprobaciones de los argumentos de entrada\n",
    "    if not isinstance(df, pd.DataFrame):\n",
    "        print(\"El primer argumento debe ser un DataFrame.\") # comprueba que el primer argumento sea un DataFrame\n",
    "        return None\n",
    "    if target_col not in df.columns:\n",
    "        print(f\"La columna '{target_col}' no existe en el DataFrame.\") # comprueba que la columna target exista en el DataFrame\n",
    "        return None\n",
    "    if not pd.api.types.is_numeric_dtype(df[target_col]):\n",
    "        print(f\"La columna '{target_col}' no es numérica.\") # comprueba que la columna target sea numérica\n",
    "        return None\n",
    "    if not (0 <= umbral_corr <= 1):\n",
    "        print(\"El umbral de correlación debe estar entre 0 y 1.\") # comprueba que el umbral de correlación esté entre 0 y 1\n",
    "        return None\n",
    "    if pvalue is not None and not (0 <= pvalue <= 1):\n",
    "        print(\"El valor de pvalue debe estar entre 0 y 1.\") # comprueba que el valor de pvalue esté entre 0 y 1\n",
    "        return None\n",
    "    \n",
    "        # Calcular la correlación\n",
    "    corr = df.corr()[target_col].abs() # 'abs' calcula el valor absoluto de las correlaciones.\n",
    "    features = corr[corr > umbral_corr].index.tolist()\n",
    "    features.remove(target_col)  # Eliminar la variable target de la lista de features, porque su valor de correlación es 1.\n",
    "\n",
    "        # Filtrar por pvalue si es necesario\n",
    "    if pvalue is not None:\n",
    "        significant_features = []\n",
    "        for feature in features:\n",
    "            _, p_val = pearsonr(df[feature], df[target_col]) # colocamos el guión bajo '_,' para indicar que no nos interesa el primer valor\n",
    "            if p_val < (1 - pvalue):\n",
    "                significant_features.append(feature)\n",
    "        features = significant_features\n",
    "\n",
    "    return features\n",
    "\n",
    "# Cargar el dataset\n",
    "df = pd.read_csv(r'C:\\DATA_SCIENCE\\Team Challenge\\Lost in ML - Programa para Machine Learning\\student_performance_data.csv')\n",
    "\n",
    "# Obtener las columnas numéricas\n",
    "features = get_features_num_regression(df, 'GPA', 0.5, pvalue=0.05)\n",
    "features\n",
    "    "
   ]
  },
  {
   "cell_type": "code",
   "execution_count": null,
   "metadata": {},
   "outputs": [],
   "source": [
    "'''\n",
    "Razones para elegir 'GPA' como columna objetivo:\n",
    "\n",
    "1. Relevancia: El GPA es una medida importante del rendimiento académico \n",
    "y puede ser interesante analizar qué factores están más correlacionados con él.\n",
    "\n",
    "2. Variable continua: El GPA es una variable numérica continua, \n",
    "lo que la hace adecuada para el análisis de regresión y correlación.\n",
    "\n",
    "3. Ejemplo: Usar el GPA como ejemplo ayuda a ilustrar cómo la función puede identificar \n",
    "características que están fuertemente correlacionadas con una métrica de rendimiento escolar\n",
    "\n",
    "'''\n"
   ]
  }
 ],
 "metadata": {
  "kernelspec": {
   "display_name": "Python 3",
   "language": "python",
   "name": "python3"
  },
  "language_info": {
   "codemirror_mode": {
    "name": "ipython",
    "version": 3
   },
   "file_extension": ".py",
   "mimetype": "text/x-python",
   "name": "python",
   "nbconvert_exporter": "python",
   "pygments_lexer": "ipython3",
   "version": "3.12.5"
  }
 },
 "nbformat": 4,
 "nbformat_minor": 2
}
