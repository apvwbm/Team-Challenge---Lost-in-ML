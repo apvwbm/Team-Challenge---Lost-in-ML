{
 "cells": [
  {
   "cell_type": "code",
   "execution_count": 2,
   "metadata": {},
   "outputs": [],
   "source": [
    "import pandas as pd\n",
    "from scipy import stats\n",
    "import matplotlib.pyplot as plt\n",
    "import seaborn as sns"
   ]
  },
  {
   "cell_type": "code",
   "execution_count": 3,
   "metadata": {},
   "outputs": [],
   "source": [
    "def plot_features_cat_regression(df, target_col=\"\", columns=[], pvalue=0.05, with_individual_plot=False):\n",
    "    \"\"\"\n",
    "    Función para graficar histogramas agrupados de variables categóricas significativas.\n",
    "    \n",
    "    Params:\n",
    "        df: dataframe de pandas\n",
    "        target_col: columna objetivo del dataframe (variable numérica)\n",
    "        columns: lista de columnas categóricas a evaluar (si está vacía, se usan todas las columnas categóricas)\n",
    "        pvalue: p-valor para el test de significancia\n",
    "        with_individual_plot: si es True, genera un gráfico individual por cada categoría\n",
    "    \n",
    "    Returns:\n",
    "        Lista de columnas que cumplen con los criterios de significancia\n",
    "    \"\"\"\n",
    "    \n",
    "    # Verificamos si el dataframe es válido\n",
    "    if not isinstance(df, pd.DataFrame):\n",
    "        print(\"El argumento 'df' no es un dataframe válido.\")\n",
    "        return None\n",
    "    \n",
    "    # Verificamos si 'target_col' es una columna válida en el dataframe\n",
    "    if target_col and target_col not in df.columns:\n",
    "        print(f\"La columna '{target_col}' no está en el dataframe.\")\n",
    "        return None\n",
    "    \n",
    "    # Verificamos si la columna 'target_col' es numérica\n",
    "    if target_col and not pd.api.types.is_numeric_dtype(df[target_col]):\n",
    "        print(f\"La columna '{target_col}' no es una columna numérica.\")\n",
    "        return None\n",
    "    \n",
    "    # Identificar las columnas categóricas del dataframe\n",
    "    cat_columns = df.select_dtypes(include=['object', 'category']).columns.tolist()\n",
    "    \n",
    "    if not cat_columns:\n",
    "        print(\"No se encontraron características categóricas en el dataframe.\")\n",
    "        return None\n",
    "\n",
    "    # Si 'columns' está vacío, usamos todas las columnas categóricas\n",
    "    if not columns:\n",
    "        columns = cat_columns\n",
    "    \n",
    "    # Lista para almacenar las columnas significativas\n",
    "    significant_cat_features = []\n",
    "\n",
    "    # Verificamos la significancia de las columnas categóricas con respecto al 'target_col'\n",
    "    for cat_col in columns:\n",
    "        if cat_col not in cat_columns:\n",
    "            print(f\"La columna '{cat_col}' no es categórica o no existe en el dataframe.\")\n",
    "            continue\n",
    "        \n",
    "        if df[cat_col].nunique() > 1:\n",
    "            if df[cat_col].nunique() == 2:\n",
    "                group1 = df[target_col][df[cat_col] == df[cat_col].unique()[0]]\n",
    "                group2 = df[target_col][df[cat_col] == df[cat_col].unique()[1]]\n",
    "                t_stat, p_val = stats.ttest_ind(group1, group2)\n",
    "            else:\n",
    "                f_val, p_val = stats.f_oneway(*[df[target_col][df[cat_col] == level] for level in df[cat_col].unique()])\n",
    "            \n",
    "            # Comprobamos si el p-valor es menor que el p-valor especificado\n",
    "            if p_val < pvalue:\n",
    "                significant_cat_features.append(cat_col)\n",
    "                \n",
    "    # Si no hay columnas significativas\n",
    "    if not significant_cat_features:\n",
    "        print(\"No se encontraron características categóricas significativas.\")\n",
    "        return None\n",
    "\n",
    "    # Graficar histogramas agrupados para las columnas significativas\n",
    "    for cat_col in significant_cat_features:\n",
    "        plt.figure(figsize=(10, 6))\n",
    "        sns.histplot(data=df, x=target_col, hue=cat_col, kde=True, multiple=\"stack\", bins=30)\n",
    "        plt.title(f\"Distribución de {target_col} por {cat_col}\")\n",
    "        plt.xlabel(target_col)\n",
    "        plt.ylabel(\"Frecuencia\")\n",
    "        plt.show()\n",
    "\n",
    "        # Si 'with_individual_plot' es True, graficar histogramas individuales por cada categoría\n",
    "        if with_individual_plot:\n",
    "            for level in df[cat_col].unique():\n",
    "                plt.figure(figsize=(10, 6))\n",
    "                sns.histplot(df[df[cat_col] == level], x=target_col, kde=True, bins=30)\n",
    "                plt.title(f\"Distribución de {target_col} para {cat_col} = {level}\")\n",
    "                plt.xlabel(target_col)\n",
    "                plt.ylabel(\"Frecuencia\")\n",
    "                plt.show()\n",
    "\n",
    "    return significant_cat_features"
   ]
  },
  {
   "cell_type": "code",
   "execution_count": 4,
   "metadata": {},
   "outputs": [],
   "source": [
    "df = pd.read_csv('../data/student_performance_data.csv')"
   ]
  },
  {
   "cell_type": "code",
   "execution_count": 5,
   "metadata": {},
   "outputs": [
    {
     "name": "stdout",
     "output_type": "stream",
     "text": [
      "No se encontraron características categóricas en el dataframe.\n"
     ]
    }
   ],
   "source": [
    "plot_features_cat_regression(df, target_col='GPA', pvalue=0.05, with_individual_plot=False)"
   ]
  }
 ],
 "metadata": {
  "kernelspec": {
   "display_name": "Python 3",
   "language": "python",
   "name": "python3"
  },
  "language_info": {
   "codemirror_mode": {
    "name": "ipython",
    "version": 3
   },
   "file_extension": ".py",
   "mimetype": "text/x-python",
   "name": "python",
   "nbconvert_exporter": "python",
   "pygments_lexer": "ipython3",
   "version": "3.13.1"
  }
 },
 "nbformat": 4,
 "nbformat_minor": 2
}
